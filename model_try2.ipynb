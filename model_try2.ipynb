{
 "cells": [
  {
   "cell_type": "code",
   "execution_count": 1,
   "id": "253aced1",
   "metadata": {},
   "outputs": [],
   "source": [
    "import os\n",
    "import datetime\n",
    "\n",
    "import IPython\n",
    "import IPython.display\n",
    "import matplotlib as mpl\n",
    "import matplotlib.pyplot as plt\n",
    "import numpy as np\n",
    "import pandas as pd\n",
    "import seaborn as sns\n",
    "import tensorflow as tf\n",
    "\n",
    "mpl.rcParams['figure.figsize'] = (8, 6)\n",
    "mpl.rcParams['axes.grid'] = False"
   ]
  },
  {
   "cell_type": "code",
   "execution_count": 2,
   "id": "036db4b3",
   "metadata": {},
   "outputs": [],
   "source": [
    "def create_df_from_1size(size1):\n",
    "\n",
    "    df1 = pd.DataFrame(columns=['trap_x', 'trap_y', 'trap_z', 'x_init', 'y_init', 'z_init'])\n",
    "\n",
    "    for i in range(360):\n",
    "        path = f'rotation/Circle_{size1}/data360/circle_{size1}_{i}_degrees.csv'\n",
    "        simulated = pd.read_csv(path)\n",
    "\n",
    "        initial_x = simulated.loc[0, 'x']\n",
    "        initial_y = simulated.loc[0, 'y']\n",
    "        initial_z = simulated.loc[0, 'z']\n",
    "\n",
    "        traps_path = f'rotation/Circle_{size1}/data360/traps_{size1}_{i}_degrees.csv'\n",
    "        traps = pd.read_csv(traps_path)\n",
    "        traps = traps.rename(columns={'x': 'trap_x', 'y': 'trap_y', 'z': 'trap_z'})\n",
    "        traps['trap_x'] = traps['trap_x'] / 1000\n",
    "        traps['trap_y'] = traps['trap_y'] / 1000\n",
    "        traps['trap_z'] = traps['trap_z'] / 1000\n",
    "        traps['x_init'] = initial_x \n",
    "        traps['y_init'] = initial_y\n",
    "        traps['z_init'] = initial_z\n",
    "        df1 = pd.concat([df1, traps])\n",
    "    df1 = df1.reset_index()\n",
    "    # df.drop(['index'])\n",
    "    df1 = df1.drop('index', axis=1)\n",
    "    return df1\n",
    "    "
   ]
  },
  {
   "cell_type": "code",
   "execution_count": 3,
   "id": "3295398d",
   "metadata": {},
   "outputs": [],
   "source": [
    "df1 = create_df_from_1size(0.035)"
   ]
  },
  {
   "cell_type": "code",
   "execution_count": null,
   "id": "0e92e5f1",
   "metadata": {},
   "outputs": [],
   "source": [
    "df2 = create_df_from_1size(0.07)"
   ]
  },
  {
   "cell_type": "code",
   "execution_count": null,
   "id": "db5f6683",
   "metadata": {},
   "outputs": [],
   "source": [
    "df3 = create_df_from_1size(0.105)\n",
    "df4 = create_df_from_1size(0.14)\n",
    "df5 = create_df_from_1size(0.175)\n"
   ]
  },
  {
   "cell_type": "code",
   "execution_count": null,
   "id": "3f67d82f",
   "metadata": {},
   "outputs": [],
   "source": [
    "df = pd.DataFrame(columns=['trap_x', 'trap_y', 'trap_z', 'x_init', 'y_init', 'z_init'])\n",
    "\n"
   ]
  },
  {
   "cell_type": "code",
   "execution_count": null,
   "id": "5c91919b",
   "metadata": {},
   "outputs": [],
   "source": [
    "df = df.append(df1[:1000])"
   ]
  },
  {
   "cell_type": "code",
   "execution_count": null,
   "id": "a8d7b9a3",
   "metadata": {},
   "outputs": [],
   "source": [
    "df"
   ]
  },
  {
   "cell_type": "code",
   "execution_count": null,
   "id": "f48ef6cd",
   "metadata": {},
   "outputs": [],
   "source": [
    "for i in range(360):\n",
    "    df = df.append(df1[i*1000:i*1000+1000])\n",
    "    df = df.append(df2[i*1000:i*1000+1000])\n",
    "    df = df.append(df3[i*1000:i*1000+1000])\n",
    "    df = df.append(df4[i*1000:i*1000+1000])\n",
    "    df = df.append(df5[i*1000:i*1000+1000])"
   ]
  },
  {
   "cell_type": "code",
   "execution_count": null,
   "id": "4acdca1d",
   "metadata": {},
   "outputs": [],
   "source": [
    "df"
   ]
  },
  {
   "cell_type": "markdown",
   "id": "99ae10fb",
   "metadata": {},
   "source": [
    "## RNN"
   ]
  },
  {
   "cell_type": "code",
   "execution_count": null,
   "id": "c4a26c89",
   "metadata": {},
   "outputs": [],
   "source": [
    "def get_train_test(df, split_percent=0.8):\n",
    "    data = np.array(df.values.astype('float32'))\n",
    "    n = len(data)\n",
    "    # Point for splitting data into train and test\n",
    "    split = int(n*split_percent)\n",
    "    train_data = data[range(split)]\n",
    "    test_data = data[split:]\n",
    "    return train_data, test_data, data"
   ]
  },
  {
   "cell_type": "code",
   "execution_count": null,
   "id": "45018dd9",
   "metadata": {},
   "outputs": [],
   "source": [
    "train, test, data = get_train_test(df)"
   ]
  },
  {
   "cell_type": "code",
   "execution_count": null,
   "id": "82f8f4f5",
   "metadata": {},
   "outputs": [],
   "source": [
    "def get_XY(dat, time_steps):\n",
    "    Y_ind = np.arange(time_steps, len(dat), time_steps)\n",
    "    Y = dat[Y_ind]\n",
    "    print(Y_ind)\n",
    "    rows_x = len(Y)\n",
    "    X = dat[range(time_steps*rows_x)]\n",
    "    X = np.reshape(X, (rows_x, time_steps, 6)) \n",
    "\n",
    "    return X, Y"
   ]
  },
  {
   "cell_type": "code",
   "execution_count": null,
   "id": "e83025d4",
   "metadata": {},
   "outputs": [],
   "source": [
    "time_steps = 25\n",
    "\n",
    "trainX, trainY = get_XY(train, time_steps)\n",
    "testX, testY = get_XY(test, time_steps)\n",
    "\n"
   ]
  },
  {
   "cell_type": "code",
   "execution_count": null,
   "id": "ece0f6ee",
   "metadata": {},
   "outputs": [],
   "source": [
    "trainY = trainY[:, :3]\n",
    "testY = testY[:, :3]"
   ]
  },
  {
   "cell_type": "code",
   "execution_count": null,
   "id": "54b3975b",
   "metadata": {},
   "outputs": [],
   "source": [
    "from keras.models import Sequential\n",
    "from keras.layers import Dense, SimpleRNN\n",
    "from sklearn.preprocessing import MinMaxScaler\n",
    "from sklearn.metrics import mean_squared_error\n",
    "import math\n",
    "import matplotlib.pyplot as plt"
   ]
  },
  {
   "cell_type": "code",
   "execution_count": null,
   "id": "30aad557",
   "metadata": {},
   "outputs": [],
   "source": [
    "def create_RNN(hidden_units, dense_units, input_shape, activation):\n",
    "    model = Sequential()\n",
    "    model.add(SimpleRNN(hidden_units, input_shape=input_shape, activation=activation[0]))\n",
    "#     model.add(Dense(units=10, activation=activation[1]))\n",
    "    model.add(Dense(units=3, activation=activation[1]))\n",
    "\n",
    "\n",
    "    model.compile(loss='mean_squared_error', optimizer='adam')\n",
    "    return model"
   ]
  },
  {
   "cell_type": "code",
   "execution_count": null,
   "id": "f8f42096",
   "metadata": {},
   "outputs": [],
   "source": [
    "from time import perf_counter, sleep\n",
    "\n"
   ]
  },
  {
   "cell_type": "code",
   "execution_count": null,
   "id": "77c04764",
   "metadata": {},
   "outputs": [],
   "source": [
    "# Create model and train\n",
    "model = create_RNN(hidden_units=3, dense_units=3, input_shape=(time_steps,6), \n",
    "                   activation=['tanh', 'tanh'])\n",
    "start = perf_counter()\n",
    "model.fit(trainX, trainY, epochs=5, batch_size=10, verbose=2, validation_split=0.1)\n",
    "end = perf_counter()\n",
    "print(f\"Time taken to execute code : {end-start}\")"
   ]
  },
  {
   "cell_type": "code",
   "execution_count": null,
   "id": "ecf4b6f4",
   "metadata": {},
   "outputs": [],
   "source": [
    "train_predict = model.predict(trainX)\n",
    "test_predict = model.predict(testX)"
   ]
  },
  {
   "cell_type": "code",
   "execution_count": null,
   "id": "405ac6f9",
   "metadata": {},
   "outputs": [],
   "source": [
    "def print_error(trainY, testY, train_predict, test_predict):    \n",
    "    # Error of predictions\n",
    "    train_rmse = math.sqrt(mean_squared_error(trainY, train_predict))\n",
    "    test_rmse = math.sqrt(mean_squared_error(testY, test_predict))\n",
    "    # Print RMSE\n",
    "    print('Train RMSE: %.9f RMSE' % (train_rmse))\n",
    "    print('Test RMSE: %.9f RMSE' % (test_rmse)) "
   ]
  },
  {
   "cell_type": "code",
   "execution_count": null,
   "id": "222d6de5",
   "metadata": {},
   "outputs": [],
   "source": [
    "print_error(trainY, testY, train_predict, test_predict)"
   ]
  },
  {
   "cell_type": "markdown",
   "id": "1c51699c",
   "metadata": {},
   "source": [
    "## Visualization of prediction "
   ]
  },
  {
   "cell_type": "code",
   "execution_count": null,
   "id": "9bbeadd8",
   "metadata": {},
   "outputs": [],
   "source": [
    "prediction_df = pd.DataFrame(columns=['x', 'y', 'z', 'label'])\n",
    "\n"
   ]
  },
  {
   "cell_type": "code",
   "execution_count": null,
   "id": "a42c61b5",
   "metadata": {},
   "outputs": [],
   "source": [
    "row = 2000"
   ]
  },
  {
   "cell_type": "code",
   "execution_count": null,
   "id": "99f4a0c0",
   "metadata": {},
   "outputs": [],
   "source": [
    "prediction_df = pd.DataFrame(data = testX[row, :, :3], \n",
    "                  columns = ['x', 'y', 'z'])"
   ]
  },
  {
   "cell_type": "code",
   "execution_count": null,
   "id": "0da2065d",
   "metadata": {},
   "outputs": [],
   "source": [
    "prediction_df['label'] = 'real_value'"
   ]
  },
  {
   "cell_type": "code",
   "execution_count": null,
   "id": "3eedba3f",
   "metadata": {},
   "outputs": [],
   "source": [
    "new_row = {'x':testY[row][0], 'y':testY[row][1], 'z':testY[row][2], 'label': 'prediction'}\n",
    "prediction_df = prediction_df.append(new_row, ignore_index=True)"
   ]
  },
  {
   "cell_type": "code",
   "execution_count": null,
   "id": "ba16627f",
   "metadata": {},
   "outputs": [],
   "source": [
    "import plotly.express as px\n",
    "import plotly.io as pio\n",
    "pio.renderers.default = 'notebook'\n",
    "fig = px.line_3d(prediction_df, x=\"x\", y=\"y\", z=\"z\", color='label',markers=True)\n",
    "fig.show()"
   ]
  }
 ],
 "metadata": {
  "kernelspec": {
   "display_name": "Python 3 (ipykernel)",
   "language": "python",
   "name": "python3"
  },
  "language_info": {
   "codemirror_mode": {
    "name": "ipython",
    "version": 3
   },
   "file_extension": ".py",
   "mimetype": "text/x-python",
   "name": "python",
   "nbconvert_exporter": "python",
   "pygments_lexer": "ipython3",
   "version": "3.11.3"
  }
 },
 "nbformat": 4,
 "nbformat_minor": 5
}
