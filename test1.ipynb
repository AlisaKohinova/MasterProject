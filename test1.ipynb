{
 "cells": [
  {
   "cell_type": "code",
   "execution_count": 1,
   "id": "e0689d78",
   "metadata": {},
   "outputs": [],
   "source": [
    "import pandas as pd\n",
    "import numpy as np\n",
    "import matplotlib.pyplot as plt"
   ]
  },
  {
   "cell_type": "code",
   "execution_count": 2,
   "id": "bfed83ed",
   "metadata": {},
   "outputs": [],
   "source": [
    "df = pd.read_csv('25-05-2021-16-00-05_measured_HEART.csv')"
   ]
  },
  {
   "cell_type": "code",
   "execution_count": 3,
   "id": "ff8a4d28",
   "metadata": {},
   "outputs": [
    {
     "data": {
      "text/html": [
       "<div>\n",
       "<style scoped>\n",
       "    .dataframe tbody tr th:only-of-type {\n",
       "        vertical-align: middle;\n",
       "    }\n",
       "\n",
       "    .dataframe tbody tr th {\n",
       "        vertical-align: top;\n",
       "    }\n",
       "\n",
       "    .dataframe thead th {\n",
       "        text-align: right;\n",
       "    }\n",
       "</style>\n",
       "<table border=\"1\" class=\"dataframe\">\n",
       "  <thead>\n",
       "    <tr style=\"text-align: right;\">\n",
       "      <th></th>\n",
       "      <th>timestamp</th>\n",
       "      <th>bead_x</th>\n",
       "      <th>bead_y</th>\n",
       "      <th>bead_z</th>\n",
       "    </tr>\n",
       "  </thead>\n",
       "  <tbody>\n",
       "    <tr>\n",
       "      <th>0</th>\n",
       "      <td>0.000000</td>\n",
       "      <td>-0.000255</td>\n",
       "      <td>0.001797</td>\n",
       "      <td>0.129660</td>\n",
       "    </tr>\n",
       "    <tr>\n",
       "      <th>1</th>\n",
       "      <td>0.000000</td>\n",
       "      <td>-0.000250</td>\n",
       "      <td>0.001805</td>\n",
       "      <td>0.129658</td>\n",
       "    </tr>\n",
       "    <tr>\n",
       "      <th>2</th>\n",
       "      <td>0.000000</td>\n",
       "      <td>-0.000235</td>\n",
       "      <td>0.001816</td>\n",
       "      <td>0.129667</td>\n",
       "    </tr>\n",
       "    <tr>\n",
       "      <th>3</th>\n",
       "      <td>0.015625</td>\n",
       "      <td>-0.000233</td>\n",
       "      <td>0.001792</td>\n",
       "      <td>0.129670</td>\n",
       "    </tr>\n",
       "    <tr>\n",
       "      <th>4</th>\n",
       "      <td>0.015625</td>\n",
       "      <td>-0.000258</td>\n",
       "      <td>0.001826</td>\n",
       "      <td>0.129659</td>\n",
       "    </tr>\n",
       "    <tr>\n",
       "      <th>...</th>\n",
       "      <td>...</td>\n",
       "      <td>...</td>\n",
       "      <td>...</td>\n",
       "      <td>...</td>\n",
       "    </tr>\n",
       "    <tr>\n",
       "      <th>1634</th>\n",
       "      <td>6.812500</td>\n",
       "      <td>-0.000908</td>\n",
       "      <td>-0.018423</td>\n",
       "      <td>0.115482</td>\n",
       "    </tr>\n",
       "    <tr>\n",
       "      <th>1635</th>\n",
       "      <td>6.812500</td>\n",
       "      <td>-0.000651</td>\n",
       "      <td>-0.023954</td>\n",
       "      <td>0.123576</td>\n",
       "    </tr>\n",
       "    <tr>\n",
       "      <th>1636</th>\n",
       "      <td>6.812500</td>\n",
       "      <td>-0.001060</td>\n",
       "      <td>-0.025023</td>\n",
       "      <td>0.131414</td>\n",
       "    </tr>\n",
       "    <tr>\n",
       "      <th>1637</th>\n",
       "      <td>6.812500</td>\n",
       "      <td>-0.000942</td>\n",
       "      <td>-0.020430</td>\n",
       "      <td>0.138163</td>\n",
       "    </tr>\n",
       "    <tr>\n",
       "      <th>1638</th>\n",
       "      <td>6.828125</td>\n",
       "      <td>-0.000232</td>\n",
       "      <td>-0.012478</td>\n",
       "      <td>0.141681</td>\n",
       "    </tr>\n",
       "  </tbody>\n",
       "</table>\n",
       "<p>1639 rows × 4 columns</p>\n",
       "</div>"
      ],
      "text/plain": [
       "      timestamp    bead_x    bead_y    bead_z\n",
       "0      0.000000 -0.000255  0.001797  0.129660\n",
       "1      0.000000 -0.000250  0.001805  0.129658\n",
       "2      0.000000 -0.000235  0.001816  0.129667\n",
       "3      0.015625 -0.000233  0.001792  0.129670\n",
       "4      0.015625 -0.000258  0.001826  0.129659\n",
       "...         ...       ...       ...       ...\n",
       "1634   6.812500 -0.000908 -0.018423  0.115482\n",
       "1635   6.812500 -0.000651 -0.023954  0.123576\n",
       "1636   6.812500 -0.001060 -0.025023  0.131414\n",
       "1637   6.812500 -0.000942 -0.020430  0.138163\n",
       "1638   6.828125 -0.000232 -0.012478  0.141681\n",
       "\n",
       "[1639 rows x 4 columns]"
      ]
     },
     "execution_count": 3,
     "metadata": {},
     "output_type": "execute_result"
    }
   ],
   "source": [
    "df"
   ]
  },
  {
   "cell_type": "code",
   "execution_count": 4,
   "id": "4a0f38fd",
   "metadata": {},
   "outputs": [],
   "source": [
    "df = df.rename(columns={\" bead_x\": \"x\", \" bead_y\": \"y\", \" bead_z\": \"z\"}, errors=\"raise\")"
   ]
  },
  {
   "cell_type": "code",
   "execution_count": 5,
   "id": "3d04cc66",
   "metadata": {},
   "outputs": [
    {
     "data": {
      "text/html": [
       "<div>\n",
       "<style scoped>\n",
       "    .dataframe tbody tr th:only-of-type {\n",
       "        vertical-align: middle;\n",
       "    }\n",
       "\n",
       "    .dataframe tbody tr th {\n",
       "        vertical-align: top;\n",
       "    }\n",
       "\n",
       "    .dataframe thead th {\n",
       "        text-align: right;\n",
       "    }\n",
       "</style>\n",
       "<table border=\"1\" class=\"dataframe\">\n",
       "  <thead>\n",
       "    <tr style=\"text-align: right;\">\n",
       "      <th></th>\n",
       "      <th>timestamp</th>\n",
       "      <th>x</th>\n",
       "      <th>y</th>\n",
       "      <th>z</th>\n",
       "    </tr>\n",
       "  </thead>\n",
       "  <tbody>\n",
       "    <tr>\n",
       "      <th>0</th>\n",
       "      <td>0.000000</td>\n",
       "      <td>-0.000255</td>\n",
       "      <td>0.001797</td>\n",
       "      <td>0.129660</td>\n",
       "    </tr>\n",
       "    <tr>\n",
       "      <th>1</th>\n",
       "      <td>0.000000</td>\n",
       "      <td>-0.000250</td>\n",
       "      <td>0.001805</td>\n",
       "      <td>0.129658</td>\n",
       "    </tr>\n",
       "    <tr>\n",
       "      <th>2</th>\n",
       "      <td>0.000000</td>\n",
       "      <td>-0.000235</td>\n",
       "      <td>0.001816</td>\n",
       "      <td>0.129667</td>\n",
       "    </tr>\n",
       "    <tr>\n",
       "      <th>3</th>\n",
       "      <td>0.015625</td>\n",
       "      <td>-0.000233</td>\n",
       "      <td>0.001792</td>\n",
       "      <td>0.129670</td>\n",
       "    </tr>\n",
       "    <tr>\n",
       "      <th>4</th>\n",
       "      <td>0.015625</td>\n",
       "      <td>-0.000258</td>\n",
       "      <td>0.001826</td>\n",
       "      <td>0.129659</td>\n",
       "    </tr>\n",
       "    <tr>\n",
       "      <th>...</th>\n",
       "      <td>...</td>\n",
       "      <td>...</td>\n",
       "      <td>...</td>\n",
       "      <td>...</td>\n",
       "    </tr>\n",
       "    <tr>\n",
       "      <th>1634</th>\n",
       "      <td>6.812500</td>\n",
       "      <td>-0.000908</td>\n",
       "      <td>-0.018423</td>\n",
       "      <td>0.115482</td>\n",
       "    </tr>\n",
       "    <tr>\n",
       "      <th>1635</th>\n",
       "      <td>6.812500</td>\n",
       "      <td>-0.000651</td>\n",
       "      <td>-0.023954</td>\n",
       "      <td>0.123576</td>\n",
       "    </tr>\n",
       "    <tr>\n",
       "      <th>1636</th>\n",
       "      <td>6.812500</td>\n",
       "      <td>-0.001060</td>\n",
       "      <td>-0.025023</td>\n",
       "      <td>0.131414</td>\n",
       "    </tr>\n",
       "    <tr>\n",
       "      <th>1637</th>\n",
       "      <td>6.812500</td>\n",
       "      <td>-0.000942</td>\n",
       "      <td>-0.020430</td>\n",
       "      <td>0.138163</td>\n",
       "    </tr>\n",
       "    <tr>\n",
       "      <th>1638</th>\n",
       "      <td>6.828125</td>\n",
       "      <td>-0.000232</td>\n",
       "      <td>-0.012478</td>\n",
       "      <td>0.141681</td>\n",
       "    </tr>\n",
       "  </tbody>\n",
       "</table>\n",
       "<p>1639 rows × 4 columns</p>\n",
       "</div>"
      ],
      "text/plain": [
       "      timestamp         x         y         z\n",
       "0      0.000000 -0.000255  0.001797  0.129660\n",
       "1      0.000000 -0.000250  0.001805  0.129658\n",
       "2      0.000000 -0.000235  0.001816  0.129667\n",
       "3      0.015625 -0.000233  0.001792  0.129670\n",
       "4      0.015625 -0.000258  0.001826  0.129659\n",
       "...         ...       ...       ...       ...\n",
       "1634   6.812500 -0.000908 -0.018423  0.115482\n",
       "1635   6.812500 -0.000651 -0.023954  0.123576\n",
       "1636   6.812500 -0.001060 -0.025023  0.131414\n",
       "1637   6.812500 -0.000942 -0.020430  0.138163\n",
       "1638   6.828125 -0.000232 -0.012478  0.141681\n",
       "\n",
       "[1639 rows x 4 columns]"
      ]
     },
     "execution_count": 5,
     "metadata": {},
     "output_type": "execute_result"
    }
   ],
   "source": [
    "df"
   ]
  },
  {
   "cell_type": "code",
   "execution_count": 6,
   "id": "69bf0751",
   "metadata": {},
   "outputs": [],
   "source": [
    "y_start = df.y[0]\n",
    "z_start = df.z[0]"
   ]
  },
  {
   "cell_type": "code",
   "execution_count": 7,
   "id": "b9a4a42f",
   "metadata": {},
   "outputs": [
    {
     "data": {
      "text/plain": [
       "66"
      ]
     },
     "execution_count": 7,
     "metadata": {},
     "output_type": "execute_result"
    }
   ],
   "source": [
    "len(df[(abs(df.y - y_start) < 0.00084) & (abs(df.z - z_start) < 0.00084)].timestamp.unique())"
   ]
  },
  {
   "cell_type": "code",
   "execution_count": 8,
   "id": "fed48a81",
   "metadata": {},
   "outputs": [
    {
     "data": {
      "text/plain": [
       "[<matplotlib.lines.Line2D at 0x1268313d0>]"
      ]
     },
     "execution_count": 8,
     "metadata": {},
     "output_type": "execute_result"
    },
    {
     "data": {
      "image/png": "[encoded data removed]",
      "text/plain": [
       "<Figure size 432x288 with 1 Axes>"
      ]
     },
     "metadata": {
      "needs_background": "light"
     },
     "output_type": "display_data"
    }
   ],
   "source": [
    "plt.plot(list(df['y'][51:74]), list(df['z'][51:74]))"
   ]
  },
  {
   "cell_type": "code",
   "execution_count": 9,
   "id": "ccf744a5",
   "metadata": {},
   "outputs": [
    {
     "data": {
      "text/plain": [
       "0.006929"
      ]
     },
     "execution_count": 9,
     "metadata": {},
     "output_type": "execute_result"
    }
   ],
   "source": [
    "df.y[51]"
   ]
  },
  {
   "cell_type": "code",
   "execution_count": 10,
   "id": "ac6982cf",
   "metadata": {},
   "outputs": [
    {
     "data": {
      "text/plain": [
       "0.135839"
      ]
     },
     "execution_count": 10,
     "metadata": {},
     "output_type": "execute_result"
    }
   ],
   "source": [
    "df.z[51]"
   ]
  },
  {
   "cell_type": "code",
   "execution_count": 11,
   "id": "39365bb7",
   "metadata": {},
   "outputs": [
    {
     "data": {
      "text/plain": [
       "0.007491"
      ]
     },
     "execution_count": 11,
     "metadata": {},
     "output_type": "execute_result"
    }
   ],
   "source": [
    "df.y[73]"
   ]
  },
  {
   "cell_type": "code",
   "execution_count": 12,
   "id": "bd992e0a",
   "metadata": {},
   "outputs": [
    {
     "data": {
      "text/plain": [
       "0.136475"
      ]
     },
     "execution_count": 12,
     "metadata": {},
     "output_type": "execute_result"
    }
   ],
   "source": [
    "df.z[73]"
   ]
  },
  {
   "cell_type": "code",
   "execution_count": 13,
   "id": "2bec3797",
   "metadata": {},
   "outputs": [],
   "source": [
    "bins = df[(abs(df.y - y_start) < 0.00084) & (abs(df.z - z_start) < 0.00084)].timestamp.unique()"
   ]
  },
  {
   "cell_type": "code",
   "execution_count": 14,
   "id": "626745df",
   "metadata": {},
   "outputs": [
    {
     "data": {
      "text/plain": [
       "array([0.      , 0.015625, 0.03125 , 0.046875, 0.296875, 0.390625,\n",
       "       0.5     , 0.59375 , 0.6875  , 0.796875, 0.890625, 1.      ,\n",
       "       1.09375 , 1.1875  , 1.296875, 1.390625, 1.5     , 1.59375 ,\n",
       "       1.6875  , 1.796875, 1.890625, 2.      , 2.09375 , 2.1875  ,\n",
       "       2.296875, 2.390625, 2.5     , 2.59375 , 2.6875  , 2.796875,\n",
       "       2.890625, 3.      , 3.09375 , 3.1875  , 3.296875, 3.5     ,\n",
       "       3.59375 , 3.6875  , 3.796875, 3.890625, 4.      , 4.09375 ,\n",
       "       4.1875  , 4.296875, 4.390625, 4.5     , 4.59375 , 4.6875  ,\n",
       "       4.796875, 4.890625, 5.      , 5.09375 , 5.1875  , 5.296875,\n",
       "       5.390625, 5.5     , 5.59375 , 5.6875  , 5.796875, 5.890625,\n",
       "       6.390625, 6.546875, 6.5625  , 6.578125, 6.59375 , 6.75    ])"
      ]
     },
     "execution_count": 14,
     "metadata": {},
     "output_type": "execute_result"
    }
   ],
   "source": [
    "bins"
   ]
  },
  {
   "cell_type": "code",
   "execution_count": 15,
   "id": "73d1fc76",
   "metadata": {},
   "outputs": [
    {
     "data": {
      "text/plain": [
       "array([0.015625, 0.015625, 0.015625, 0.25    , 0.09375 , 0.109375,\n",
       "       0.09375 , 0.09375 , 0.109375, 0.09375 , 0.109375, 0.09375 ,\n",
       "       0.09375 , 0.109375, 0.09375 , 0.109375, 0.09375 , 0.09375 ,\n",
       "       0.109375, 0.09375 , 0.109375, 0.09375 , 0.09375 , 0.109375,\n",
       "       0.09375 , 0.109375, 0.09375 , 0.09375 , 0.109375, 0.09375 ,\n",
       "       0.109375, 0.09375 , 0.09375 , 0.109375, 0.203125, 0.09375 ,\n",
       "       0.09375 , 0.109375, 0.09375 , 0.109375, 0.09375 , 0.09375 ,\n",
       "       0.109375, 0.09375 , 0.109375, 0.09375 , 0.09375 , 0.109375,\n",
       "       0.09375 , 0.109375, 0.09375 , 0.09375 , 0.109375, 0.09375 ,\n",
       "       0.109375, 0.09375 , 0.09375 , 0.109375, 0.09375 , 0.5     ,\n",
       "       0.15625 , 0.015625, 0.015625, 0.015625, 0.15625 ])"
      ]
     },
     "execution_count": 15,
     "metadata": {},
     "output_type": "execute_result"
    }
   ],
   "source": [
    "np.diff(bins)"
   ]
  }
 ],
 "metadata": {
  "kernelspec": {
   "display_name": "Python 3 (ipykernel)",
   "language": "python",
   "name": "python3"
  },
  "language_info": {
   "codemirror_mode": {
    "name": "ipython",
    "version": 3
   },
   "file_extension": ".py",
   "mimetype": "text/x-python",
   "name": "python",
   "nbconvert_exporter": "python",
   "pygments_lexer": "ipython3",
   "version": "3.9.16"
  }
 },
 "nbformat": 4,
 "nbformat_minor": 5
}
