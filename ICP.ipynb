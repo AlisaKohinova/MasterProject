{
 "cells": [
  {
   "cell_type": "code",
   "execution_count": 1,
   "id": "eefcf072",
   "metadata": {},
   "outputs": [],
   "source": [
    "import pandas as pd\n",
    "import numpy as np\n",
    "import matplotlib.pyplot as plt"
   ]
  },
  {
   "cell_type": "code",
   "execution_count": 2,
   "id": "bf4a1e11",
   "metadata": {},
   "outputs": [],
   "source": [
    "measured = pd.read_csv('25-05-2021-16-00-05_measured_HEART.csv')\n",
    "measured = measured.rename(columns={\" bead_x\": \"x\", \" bead_y\": \"y\", \" bead_z\": \"z\"}, errors=\"raise\")"
   ]
  },
  {
   "cell_type": "code",
   "execution_count": 3,
   "id": "7eaddd41",
   "metadata": {},
   "outputs": [],
   "source": [
    "colnames = ['x', 'y', 'z']\n",
    "simulated = pd.read_csv('heart_periodic_1000_simulated_positions.csv', names=colnames)"
   ]
  },
  {
   "cell_type": "code",
   "execution_count": 4,
   "id": "01b057ed",
   "metadata": {},
   "outputs": [
    {
     "data": {
      "text/html": [
       "<div>\n",
       "<style scoped>\n",
       "    .dataframe tbody tr th:only-of-type {\n",
       "        vertical-align: middle;\n",
       "    }\n",
       "\n",
       "    .dataframe tbody tr th {\n",
       "        vertical-align: top;\n",
       "    }\n",
       "\n",
       "    .dataframe thead th {\n",
       "        text-align: right;\n",
       "    }\n",
       "</style>\n",
       "<table border=\"1\" class=\"dataframe\">\n",
       "  <thead>\n",
       "    <tr style=\"text-align: right;\">\n",
       "      <th></th>\n",
       "      <th>x</th>\n",
       "      <th>y</th>\n",
       "      <th>z</th>\n",
       "    </tr>\n",
       "  </thead>\n",
       "  <tbody>\n",
       "    <tr>\n",
       "      <th>0</th>\n",
       "      <td>0</td>\n",
       "      <td>0.000000</td>\n",
       "      <td>0.12790</td>\n",
       "    </tr>\n",
       "    <tr>\n",
       "      <th>1</th>\n",
       "      <td>0</td>\n",
       "      <td>-0.000000</td>\n",
       "      <td>0.12790</td>\n",
       "    </tr>\n",
       "    <tr>\n",
       "      <th>2</th>\n",
       "      <td>0</td>\n",
       "      <td>0.000000</td>\n",
       "      <td>0.12791</td>\n",
       "    </tr>\n",
       "    <tr>\n",
       "      <th>3</th>\n",
       "      <td>0</td>\n",
       "      <td>0.000000</td>\n",
       "      <td>0.12791</td>\n",
       "    </tr>\n",
       "    <tr>\n",
       "      <th>4</th>\n",
       "      <td>0</td>\n",
       "      <td>0.000000</td>\n",
       "      <td>0.12792</td>\n",
       "    </tr>\n",
       "    <tr>\n",
       "      <th>...</th>\n",
       "      <td>...</td>\n",
       "      <td>...</td>\n",
       "      <td>...</td>\n",
       "    </tr>\n",
       "    <tr>\n",
       "      <th>996</th>\n",
       "      <td>0</td>\n",
       "      <td>-0.000005</td>\n",
       "      <td>0.12792</td>\n",
       "    </tr>\n",
       "    <tr>\n",
       "      <th>997</th>\n",
       "      <td>0</td>\n",
       "      <td>-0.000005</td>\n",
       "      <td>0.12790</td>\n",
       "    </tr>\n",
       "    <tr>\n",
       "      <th>998</th>\n",
       "      <td>0</td>\n",
       "      <td>-0.000005</td>\n",
       "      <td>0.12790</td>\n",
       "    </tr>\n",
       "    <tr>\n",
       "      <th>999</th>\n",
       "      <td>0</td>\n",
       "      <td>-0.000005</td>\n",
       "      <td>0.12789</td>\n",
       "    </tr>\n",
       "    <tr>\n",
       "      <th>1000</th>\n",
       "      <td>0</td>\n",
       "      <td>-0.000005</td>\n",
       "      <td>0.12788</td>\n",
       "    </tr>\n",
       "  </tbody>\n",
       "</table>\n",
       "<p>1001 rows × 3 columns</p>\n",
       "</div>"
      ],
      "text/plain": [
       "      x         y        z\n",
       "0     0  0.000000  0.12790\n",
       "1     0 -0.000000  0.12790\n",
       "2     0  0.000000  0.12791\n",
       "3     0  0.000000  0.12791\n",
       "4     0  0.000000  0.12792\n",
       "...  ..       ...      ...\n",
       "996   0 -0.000005  0.12792\n",
       "997   0 -0.000005  0.12790\n",
       "998   0 -0.000005  0.12790\n",
       "999   0 -0.000005  0.12789\n",
       "1000  0 -0.000005  0.12788\n",
       "\n",
       "[1001 rows x 3 columns]"
      ]
     },
     "execution_count": 4,
     "metadata": {},
     "output_type": "execute_result"
    }
   ],
   "source": [
    "simulated"
   ]
  },
  {
   "cell_type": "code",
   "execution_count": 12,
   "id": "36aa51e8",
   "metadata": {},
   "outputs": [
    {
     "data": {
      "text/html": [
       "<div>\n",
       "<style scoped>\n",
       "    .dataframe tbody tr th:only-of-type {\n",
       "        vertical-align: middle;\n",
       "    }\n",
       "\n",
       "    .dataframe tbody tr th {\n",
       "        vertical-align: top;\n",
       "    }\n",
       "\n",
       "    .dataframe thead th {\n",
       "        text-align: right;\n",
       "    }\n",
       "</style>\n",
       "<table border=\"1\" class=\"dataframe\">\n",
       "  <thead>\n",
       "    <tr style=\"text-align: right;\">\n",
       "      <th></th>\n",
       "      <th>timestamp</th>\n",
       "      <th>x</th>\n",
       "      <th>y</th>\n",
       "      <th>z</th>\n",
       "    </tr>\n",
       "  </thead>\n",
       "  <tbody>\n",
       "    <tr>\n",
       "      <th>0</th>\n",
       "      <td>0.000000</td>\n",
       "      <td>-0.000255</td>\n",
       "      <td>0.001797</td>\n",
       "      <td>0.129660</td>\n",
       "    </tr>\n",
       "    <tr>\n",
       "      <th>1</th>\n",
       "      <td>0.000000</td>\n",
       "      <td>-0.000250</td>\n",
       "      <td>0.001805</td>\n",
       "      <td>0.129658</td>\n",
       "    </tr>\n",
       "    <tr>\n",
       "      <th>2</th>\n",
       "      <td>0.000000</td>\n",
       "      <td>-0.000235</td>\n",
       "      <td>0.001816</td>\n",
       "      <td>0.129667</td>\n",
       "    </tr>\n",
       "    <tr>\n",
       "      <th>3</th>\n",
       "      <td>0.015625</td>\n",
       "      <td>-0.000233</td>\n",
       "      <td>0.001792</td>\n",
       "      <td>0.129670</td>\n",
       "    </tr>\n",
       "    <tr>\n",
       "      <th>4</th>\n",
       "      <td>0.015625</td>\n",
       "      <td>-0.000258</td>\n",
       "      <td>0.001826</td>\n",
       "      <td>0.129659</td>\n",
       "    </tr>\n",
       "    <tr>\n",
       "      <th>...</th>\n",
       "      <td>...</td>\n",
       "      <td>...</td>\n",
       "      <td>...</td>\n",
       "      <td>...</td>\n",
       "    </tr>\n",
       "    <tr>\n",
       "      <th>1634</th>\n",
       "      <td>6.812500</td>\n",
       "      <td>-0.000908</td>\n",
       "      <td>-0.018423</td>\n",
       "      <td>0.115482</td>\n",
       "    </tr>\n",
       "    <tr>\n",
       "      <th>1635</th>\n",
       "      <td>6.812500</td>\n",
       "      <td>-0.000651</td>\n",
       "      <td>-0.023954</td>\n",
       "      <td>0.123576</td>\n",
       "    </tr>\n",
       "    <tr>\n",
       "      <th>1636</th>\n",
       "      <td>6.812500</td>\n",
       "      <td>-0.001060</td>\n",
       "      <td>-0.025023</td>\n",
       "      <td>0.131414</td>\n",
       "    </tr>\n",
       "    <tr>\n",
       "      <th>1637</th>\n",
       "      <td>6.812500</td>\n",
       "      <td>-0.000942</td>\n",
       "      <td>-0.020430</td>\n",
       "      <td>0.138163</td>\n",
       "    </tr>\n",
       "    <tr>\n",
       "      <th>1638</th>\n",
       "      <td>6.828125</td>\n",
       "      <td>-0.000232</td>\n",
       "      <td>-0.012478</td>\n",
       "      <td>0.141681</td>\n",
       "    </tr>\n",
       "  </tbody>\n",
       "</table>\n",
       "<p>1639 rows × 4 columns</p>\n",
       "</div>"
      ],
      "text/plain": [
       "      timestamp         x         y         z\n",
       "0      0.000000 -0.000255  0.001797  0.129660\n",
       "1      0.000000 -0.000250  0.001805  0.129658\n",
       "2      0.000000 -0.000235  0.001816  0.129667\n",
       "3      0.015625 -0.000233  0.001792  0.129670\n",
       "4      0.015625 -0.000258  0.001826  0.129659\n",
       "...         ...       ...       ...       ...\n",
       "1634   6.812500 -0.000908 -0.018423  0.115482\n",
       "1635   6.812500 -0.000651 -0.023954  0.123576\n",
       "1636   6.812500 -0.001060 -0.025023  0.131414\n",
       "1637   6.812500 -0.000942 -0.020430  0.138163\n",
       "1638   6.828125 -0.000232 -0.012478  0.141681\n",
       "\n",
       "[1639 rows x 4 columns]"
      ]
     },
     "execution_count": 12,
     "metadata": {},
     "output_type": "execute_result"
    }
   ],
   "source": [
    "measured"
   ]
  },
  {
   "cell_type": "code",
   "execution_count": 5,
   "id": "5d93e91d",
   "metadata": {},
   "outputs": [
    {
     "data": {
      "text/plain": [
       "[<matplotlib.lines.Line2D at 0x1236e6940>]"
      ]
     },
     "execution_count": 5,
     "metadata": {},
     "output_type": "execute_result"
    },
    {
     "data": {
      "image/png": "[encoded data removed]",
      "text/plain": [
       "<Figure size 432x288 with 1 Axes>"
      ]
     },
     "metadata": {
      "needs_background": "light"
     },
     "output_type": "display_data"
    }
   ],
   "source": [
    "plt.plot(list(simulated['y'][:1000]), list(simulated['z'][:1000]))"
   ]
  },
  {
   "cell_type": "code",
   "execution_count": 6,
   "id": "8b77d9fd",
   "metadata": {},
   "outputs": [],
   "source": [
    "heart_example = measured[51:74]"
   ]
  },
  {
   "cell_type": "code",
   "execution_count": 7,
   "id": "b395ddbd",
   "metadata": {},
   "outputs": [
    {
     "data": {
      "text/plain": [
       "[<matplotlib.lines.Line2D at 0x12401e6a0>]"
      ]
     },
     "execution_count": 7,
     "metadata": {},
     "output_type": "execute_result"
    },
    {
     "data": {
      "image/png": "[encoded data removed]",
      "text/plain": [
       "<Figure size 432x288 with 1 Axes>"
      ]
     },
     "metadata": {
      "needs_background": "light"
     },
     "output_type": "display_data"
    }
   ],
   "source": [
    "plt.plot(list(heart_example['y']), list(heart_example['z']))"
   ]
  },
  {
   "cell_type": "markdown",
   "id": "33b1559f",
   "metadata": {},
   "source": [
    "## Computing distance "
   ]
  },
  {
   "cell_type": "markdown",
   "id": "f954231d",
   "metadata": {},
   "source": [
    "Compute the directed Hausdorff distance between two 2-D arrays."
   ]
  },
  {
   "cell_type": "code",
   "execution_count": 8,
   "id": "ed5f365d",
   "metadata": {},
   "outputs": [],
   "source": [
    "# import scipy as sc"
   ]
  },
  {
   "cell_type": "code",
   "execution_count": 9,
   "id": "bf320d48",
   "metadata": {},
   "outputs": [],
   "source": [
    "# sc.spatial.distance.directed_hausdorff(simulated[['y','z']], heart_example[['y','z']])"
   ]
  },
  {
   "cell_type": "code",
   "execution_count": 10,
   "id": "0ef10d12",
   "metadata": {},
   "outputs": [
    {
     "ename": "ModuleNotFoundError",
     "evalue": "No module named 'simpleicp'",
     "output_type": "error",
     "traceback": [
      "\u001b[0;31m---------------------------------------------------------------------------\u001b[0m",
      "\u001b[0;31mModuleNotFoundError\u001b[0m                       Traceback (most recent call last)",
      "Input \u001b[0;32mIn [10]\u001b[0m, in \u001b[0;36m<cell line: 1>\u001b[0;34m()\u001b[0m\n\u001b[0;32m----> 1\u001b[0m \u001b[38;5;28;01mfrom\u001b[39;00m \u001b[38;5;21;01msimpleicp\u001b[39;00m \u001b[38;5;28;01mimport\u001b[39;00m PointCloud, SimpleICP\n",
      "\u001b[0;31mModuleNotFoundError\u001b[0m: No module named 'simpleicp'"
     ]
    }
   ],
   "source": [
    "from simpleicp import PointCloud, SimpleICP"
   ]
  },
  {
   "cell_type": "code",
   "execution_count": 11,
   "id": "c3655da8",
   "metadata": {},
   "outputs": [
    {
     "ename": "ModuleNotFoundError",
     "evalue": "No module named 'open3d'",
     "output_type": "error",
     "traceback": [
      "\u001b[0;31m---------------------------------------------------------------------------\u001b[0m",
      "\u001b[0;31mModuleNotFoundError\u001b[0m                       Traceback (most recent call last)",
      "Input \u001b[0;32mIn [11]\u001b[0m, in \u001b[0;36m<cell line: 1>\u001b[0;34m()\u001b[0m\n\u001b[0;32m----> 1\u001b[0m \u001b[38;5;28;01mimport\u001b[39;00m \u001b[38;5;21;01mopen3d\u001b[39;00m \u001b[38;5;28;01mas\u001b[39;00m \u001b[38;5;21;01mo3d\u001b[39;00m\n",
      "\u001b[0;31mModuleNotFoundError\u001b[0m: No module named 'open3d'"
     ]
    }
   ],
   "source": [
    "import open3d as o3d"
   ]
  },
  {
   "cell_type": "code",
   "execution_count": null,
   "id": "60bd27e3",
   "metadata": {},
   "outputs": [],
   "source": []
  }
 ],
 "metadata": {
  "kernelspec": {
   "display_name": "Python 3 (ipykernel)",
   "language": "python",
   "name": "python3"
  },
  "language_info": {
   "codemirror_mode": {
    "name": "ipython",
    "version": 3
   },
   "file_extension": ".py",
   "mimetype": "text/x-python",
   "name": "python",
   "nbconvert_exporter": "python",
   "pygments_lexer": "ipython3",
   "version": "3.9.16"
  }
 },
 "nbformat": 4,
 "nbformat_minor": 5
}
